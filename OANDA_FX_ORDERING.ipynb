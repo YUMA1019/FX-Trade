{
 "cells": [
  {
   "cell_type": "code",
   "execution_count": 1,
   "metadata": {},
   "outputs": [],
   "source": [
    "# ライブラリーのインポート\n",
    "import pandas as pd\n",
    "import oandapyV20\n",
    "import oandapyV20.endpoints.orders as orders\n",
    "import sys\n",
    "import key"
   ]
  },
  {
   "cell_type": "code",
   "execution_count": 2,
   "metadata": {},
   "outputs": [
    {
     "name": "stdout",
     "output_type": "stream",
     "text": [
      "101-001-9816536-001\n",
      "78c56abf939298d002025b560c84ffc0-c7285fed4611e827df43e529445bd902\n"
     ]
    }
   ],
   "source": [
    "# OANDA API v20の口座IDとAPIトークン\n",
    "accountID = key.aID\n",
    "access_token = key.aTK"
   ]
  },
  {
   "cell_type": "code",
   "execution_count": 3,
   "metadata": {},
   "outputs": [],
   "source": [
    "# APIへ接続\n",
    "api = oandapyV20.API(access_token=access_token)"
   ]
  },
  {
   "cell_type": "code",
   "execution_count": 4,
   "metadata": {},
   "outputs": [],
   "source": [
    "#成行注文\n",
    "data = {\n",
    "  \"order\": {\n",
    "    \"instrument\": \"USD_JPY\",\n",
    "    \"units\": \"+10000\",\n",
    "    \"type\": \"MARKET\",\n",
    "    \"positionFill\": \"DEFAULT\"\n",
    "  }\n",
    "}"
   ]
  },
  {
   "cell_type": "code",
   "execution_count": 5,
   "metadata": {},
   "outputs": [
    {
     "data": {
      "text/plain": [
       "{'orderCreateTransaction': {'type': 'MARKET_ORDER',\n",
       "  'instrument': 'USD_JPY',\n",
       "  'units': '10000',\n",
       "  'timeInForce': 'FOK',\n",
       "  'positionFill': 'DEFAULT',\n",
       "  'reason': 'CLIENT_ORDER',\n",
       "  'id': '17',\n",
       "  'accountID': '101-001-9816536-001',\n",
       "  'userID': 9816536,\n",
       "  'batchID': '17',\n",
       "  'requestID': '42499085075857402',\n",
       "  'time': '2018-11-19T14:14:44.861880727Z'},\n",
       " 'orderFillTransaction': {'type': 'ORDER_FILL',\n",
       "  'orderID': '17',\n",
       "  'instrument': 'USD_JPY',\n",
       "  'units': '10000',\n",
       "  'requestedUnits': '10000',\n",
       "  'price': '112.862',\n",
       "  'pl': '0.0000',\n",
       "  'financing': '0.0000',\n",
       "  'commission': '0.0000',\n",
       "  'accountBalance': '100000.0000',\n",
       "  'gainQuoteHomeConversionFactor': '0.008860378161',\n",
       "  'lossQuoteHomeConversionFactor': '0.008861320337',\n",
       "  'guaranteedExecutionFee': '0.0000',\n",
       "  'halfSpreadCost': '0.5317',\n",
       "  'fullVWAP': '112.862',\n",
       "  'reason': 'MARKET_ORDER',\n",
       "  'tradeOpened': {'price': '112.862',\n",
       "   'tradeID': '18',\n",
       "   'units': '10000',\n",
       "   'guaranteedExecutionFee': '0.0000',\n",
       "   'halfSpreadCost': '0.5317',\n",
       "   'initialMarginRequired': '400.0000'},\n",
       "  'fullPrice': {'closeoutBid': '112.835',\n",
       "   'closeoutAsk': '112.877',\n",
       "   'timestamp': '2018-11-19T14:14:35.706195551Z',\n",
       "   'bids': [{'price': '112.850', 'liquidity': '10000000'}],\n",
       "   'asks': [{'price': '112.862', 'liquidity': '10000000'}]},\n",
       "  'id': '18',\n",
       "  'accountID': '101-001-9816536-001',\n",
       "  'userID': 9816536,\n",
       "  'batchID': '17',\n",
       "  'requestID': '42499085075857402',\n",
       "  'time': '2018-11-19T14:14:44.861880727Z'},\n",
       " 'relatedTransactionIDs': ['17', '18'],\n",
       " 'lastTransactionID': '18'}"
      ]
     },
     "execution_count": 5,
     "metadata": {},
     "output_type": "execute_result"
    }
   ],
   "source": [
    "# API経由で成行注文を実行\n",
    "r = orders.OrderCreate(accountID, data=data)\n",
    "api.request(r)"
   ]
  },
  {
   "cell_type": "code",
   "execution_count": 6,
   "metadata": {},
   "outputs": [],
   "source": [
    "# ドル円が109.650で1万通貨売りの指値注文をAPI経由でやってみる\n",
    "data = {\n",
    "  \"order\": {\n",
    "    \"price\" : \"112.800\",\n",
    "    \"instrument\": \"USD_JPY\",\n",
    "    \"units\": \"-10000\",\n",
    "    \"type\": \"LIMIT\",\n",
    "    \"positionFill\": \"DEFAULT\"\n",
    "  }\n",
    "}"
   ]
  },
  {
   "cell_type": "code",
   "execution_count": 7,
   "metadata": {},
   "outputs": [
    {
     "data": {
      "text/plain": [
       "{'orders': [], 'lastTransactionID': '18'}"
      ]
     },
     "execution_count": 7,
     "metadata": {},
     "output_type": "execute_result"
    }
   ],
   "source": [
    "# 全てのペンディング注文を取得する\n",
    "r = orders.OrdersPending(accountID)\n",
    "api.request(r)"
   ]
  },
  {
   "cell_type": "code",
   "execution_count": 8,
   "metadata": {},
   "outputs": [
    {
     "ename": "V20Error",
     "evalue": "{\"orderCancelRejectTransaction\":{\"type\":\"ORDER_CANCEL_REJECT\",\"rejectReason\":\"ORDER_DOESNT_EXIST\",\"orderID\":\"13\",\"id\":\"19\",\"accountID\":\"101-001-9816536-001\",\"userID\":9816536,\"batchID\":\"19\",\"requestID\":\"42499085080052621\",\"time\":\"2018-11-19T14:14:45.423745962Z\"},\"relatedTransactionIDs\":[\"19\"],\"lastTransactionID\":\"19\",\"errorMessage\":\"The Order specified does not exist\",\"errorCode\":\"ORDER_DOESNT_EXIST\"}",
     "output_type": "error",
     "traceback": [
      "\u001b[1;31m---------------------------------------------------------------------------\u001b[0m",
      "\u001b[1;31mV20Error\u001b[0m                                  Traceback (most recent call last)",
      "\u001b[1;32m<ipython-input-8-0d49ce04ba5b>\u001b[0m in \u001b[0;36m<module>\u001b[1;34m()\u001b[0m\n\u001b[0;32m      1\u001b[0m \u001b[1;31m# 注文をキャンセル\u001b[0m\u001b[1;33m\u001b[0m\u001b[1;33m\u001b[0m\u001b[0m\n\u001b[0;32m      2\u001b[0m \u001b[0mr\u001b[0m \u001b[1;33m=\u001b[0m \u001b[0morders\u001b[0m\u001b[1;33m.\u001b[0m\u001b[0mOrderCancel\u001b[0m\u001b[1;33m(\u001b[0m\u001b[0maccountID\u001b[0m\u001b[1;33m=\u001b[0m\u001b[0maccountID\u001b[0m\u001b[1;33m,\u001b[0m \u001b[0morderID\u001b[0m\u001b[1;33m=\u001b[0m\u001b[1;36m13\u001b[0m\u001b[1;33m)\u001b[0m\u001b[1;33m\u001b[0m\u001b[0m\n\u001b[1;32m----> 3\u001b[1;33m \u001b[0mapi\u001b[0m\u001b[1;33m.\u001b[0m\u001b[0mrequest\u001b[0m\u001b[1;33m(\u001b[0m\u001b[0mr\u001b[0m\u001b[1;33m)\u001b[0m\u001b[1;33m\u001b[0m\u001b[0m\n\u001b[0m",
      "\u001b[1;32m~\\Anaconda3\\lib\\site-packages\\oandapyV20\\oandapyV20.py\u001b[0m in \u001b[0;36mrequest\u001b[1;34m(self, endpoint)\u001b[0m\n\u001b[0;32m    304\u001b[0m \u001b[1;33m\u001b[0m\u001b[0m\n\u001b[0;32m    305\u001b[0m             response = self.__request(method, url,\n\u001b[1;32m--> 306\u001b[1;33m                                       request_args, headers=headers)\n\u001b[0m\u001b[0;32m    307\u001b[0m             \u001b[0mcontent\u001b[0m \u001b[1;33m=\u001b[0m \u001b[0mresponse\u001b[0m\u001b[1;33m.\u001b[0m\u001b[0mcontent\u001b[0m\u001b[1;33m.\u001b[0m\u001b[0mdecode\u001b[0m\u001b[1;33m(\u001b[0m\u001b[1;34m'utf-8'\u001b[0m\u001b[1;33m)\u001b[0m\u001b[1;33m\u001b[0m\u001b[0m\n\u001b[0;32m    308\u001b[0m             \u001b[0mcontent\u001b[0m \u001b[1;33m=\u001b[0m \u001b[0mjson\u001b[0m\u001b[1;33m.\u001b[0m\u001b[0mloads\u001b[0m\u001b[1;33m(\u001b[0m\u001b[0mcontent\u001b[0m\u001b[1;33m)\u001b[0m\u001b[1;33m\u001b[0m\u001b[0m\n",
      "\u001b[1;32m~\\Anaconda3\\lib\\site-packages\\oandapyV20\\oandapyV20.py\u001b[0m in \u001b[0;36m__request\u001b[1;34m(self, method, url, request_args, headers, stream)\u001b[0m\n\u001b[0;32m    241\u001b[0m                          response.content.decode('utf-8'))\n\u001b[0;32m    242\u001b[0m             raise V20Error(response.status_code,\n\u001b[1;32m--> 243\u001b[1;33m                            response.content.decode('utf-8'))\n\u001b[0m\u001b[0;32m    244\u001b[0m         \u001b[1;32mreturn\u001b[0m \u001b[0mresponse\u001b[0m\u001b[1;33m\u001b[0m\u001b[0m\n\u001b[0;32m    245\u001b[0m \u001b[1;33m\u001b[0m\u001b[0m\n",
      "\u001b[1;31mV20Error\u001b[0m: {\"orderCancelRejectTransaction\":{\"type\":\"ORDER_CANCEL_REJECT\",\"rejectReason\":\"ORDER_DOESNT_EXIST\",\"orderID\":\"13\",\"id\":\"19\",\"accountID\":\"101-001-9816536-001\",\"userID\":9816536,\"batchID\":\"19\",\"requestID\":\"42499085080052621\",\"time\":\"2018-11-19T14:14:45.423745962Z\"},\"relatedTransactionIDs\":[\"19\"],\"lastTransactionID\":\"19\",\"errorMessage\":\"The Order specified does not exist\",\"errorCode\":\"ORDER_DOESNT_EXIST\"}"
     ]
    }
   ],
   "source": [
    "# 注文をキャンセル\n",
    "r = orders.OrderCancel(accountID=accountID, orderID=13)\n",
    "api.request(r)"
   ]
  },
  {
   "cell_type": "code",
   "execution_count": null,
   "metadata": {},
   "outputs": [],
   "source": []
  },
  {
   "cell_type": "code",
   "execution_count": null,
   "metadata": {},
   "outputs": [],
   "source": []
  }
 ],
 "metadata": {
  "kernelspec": {
   "display_name": "Python 3",
   "language": "python",
   "name": "python3"
  },
  "language_info": {
   "codemirror_mode": {
    "name": "ipython",
    "version": 3
   },
   "file_extension": ".py",
   "mimetype": "text/x-python",
   "name": "python",
   "nbconvert_exporter": "python",
   "pygments_lexer": "ipython3",
   "version": "3.7.0"
  }
 },
 "nbformat": 4,
 "nbformat_minor": 2
}

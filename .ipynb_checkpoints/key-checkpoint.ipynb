{
 "cells": [
  {
   "cell_type": "code",
   "execution_count": 31,
   "metadata": {},
   "outputs": [
    {
     "name": "stdout",
     "output_type": "stream",
     "text": [
      "78c56abf939298d002025b560c84ffc0-c7285fed4611e827df43e529445bd902\n"
     ]
    }
   ],
   "source": [
    "# coding: UTF-8\n",
    "import os\n",
    "import os.path\n",
    "import dotenv\n",
    "import sys\n",
    "#dotenv_path = join(dirname(os.path.abspath(sys.argv[0])), '.env')\n",
    "dotenv_path = str.join(os.path.dirname('__file__'), '.env')\n",
    "dotenv.load_dotenv(dotenv_path)\n",
    "\n",
    "# OANDA API v20の口座IDとAPIトークン\n",
    "aID = os.environ.get(\"accountID\")\n",
    "aTK = os.environ.get(\"access_token\")"
   ]
  },
  {
   "cell_type": "code",
   "execution_count": null,
   "metadata": {},
   "outputs": [],
   "source": []
  }
 ],
 "metadata": {
  "kernelspec": {
   "display_name": "Python 3",
   "language": "python",
   "name": "python3"
  },
  "language_info": {
   "codemirror_mode": {
    "name": "ipython",
    "version": 3
   },
   "file_extension": ".py",
   "mimetype": "text/x-python",
   "name": "python",
   "nbconvert_exporter": "python",
   "pygments_lexer": "ipython3",
   "version": "3.7.0"
  }
 },
 "nbformat": 4,
 "nbformat_minor": 2
}
